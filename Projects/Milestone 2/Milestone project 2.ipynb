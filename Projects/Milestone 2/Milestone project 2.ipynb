{
 "cells": [
  {
   "cell_type": "code",
   "execution_count": null,
   "metadata": {},
   "outputs": [],
   "source": [
    "from IPython.display import clear_output\n",
    "clear_output()\n"
   ]
  },
  {
   "cell_type": "code",
   "execution_count": null,
   "metadata": {},
   "outputs": [],
   "source": []
  },
  {
   "cell_type": "code",
   "execution_count": 2,
   "metadata": {},
   "outputs": [],
   "source": [
    "class Gamerules():\n",
    "    def carddeck (self):\n",
    "        from random import shuffle\n",
    "        #define a deck of card\n",
    "        deck1=[2,3,4,5,6,7,8,9,10,'Jack','Queen','King','Ace',2,3,4,5,6,7,8,9,10,'Jack','Queen','King','Ace',2,3,4,5,6,7,8,9,10,'Jack','Queen','King','Ace',2,3,4,5,6,7,8,9,10,'Jack','Queen','King','Ace']\n",
    "        deck2=[2,3,4,5,6,7,8,9,10,'Jack','Queen','King','Ace',2,3,4,5,6,7,8,9,10,'Jack','Queen','King','Ace',2,3,4,5,6,7,8,9,10,'Jack','Queen','King','Ace',2,3,4,5,6,7,8,9,10,'Jack','Queen','King','Ace']\n",
    "        deck3=[2,3,4,5,6,7,8,9,10,'Jack','Queen','King','Ace',2,3,4,5,6,7,8,9,10,'Jack','Queen','King','Ace',2,3,4,5,6,7,8,9,10,'Jack','Queen','King','Ace',2,3,4,5,6,7,8,9,10,'Jack','Queen','King','Ace']\n",
    "        self.deck4=deck1+deck2+deck3\n",
    "        shuffle(self.deck4)\n",
    "\n",
    "    def instructions (self):\n",
    "        print(f'{self.name} welcome to Blackjack game \\nThis is a card game, you will be paying against the '\n",
    "              'dealer. \\nThese are the rules of the game: \\n\\n1) You are given 2 random cards by the dealer and the dealer has 2 cards too\\n'\n",
    "              'The decisions you can make after receiving your cards: \\nHit - collect more cards from the dealer \\nStand' \n",
    "             ' - refuse to collect more cards from the dealer \\nSplit - only possible if you have cards of same values'\n",
    "             ' only after the dealer has given you your 2 cards, your bet is doubled and you receive another'\n",
    "             ' card \\nDouble - your bet is doubled and you are given another card by the dealer on each split \\nSurrender -'\n",
    "             ' the game ends immediately with you only getting half your bet back \\n\\n2) You win if you have Blackjack'\n",
    "             '(if the addition of your cards is 21) or if the total value of your card is greater than the dealers'\n",
    "             '\\n\\n3) You loose if the dealers card is greater \\n\\n4) You draw if you have same value with the dealer, however'\n",
    "             ' if the number of cards are not the same, the person with the lowest number of cards wins\\n\\n')\n",
    "\n",
    "    def winn (self):\n",
    "        self.winnings= self.pbet * 1.5\n",
    "        if self.splita != 'checkcheck':\n",
    "            self.funddep += self.winnings\n",
    "            print(f'You won your bet, balance is {self.funddep}')\n",
    "        elif self.splita == 'checkcheck':\n",
    "            self.funddep += self.winnings *0.5\n",
    "            print(f'You won your bet, balance is {self.funddep}')\n",
    "    def half (self):\n",
    "        self.surrend = self.pbet * 0.5\n",
    "        self.funddep += self.surrend\n",
    "        print(f'You have lost half of your bet, balance is {self.funddep}')\n",
    "    def dcredit (self):\n",
    "        if self.splita != 'checkcheck':\n",
    "            self.funddep += self.pbet\n",
    "            print(f'You drew, your betis returned, balance is {self.funddep}')\n",
    "        elif self.splita == 'checkcheck':\n",
    "            self.funddep += self.pbet\n",
    "            print(f'You drew, a hand bet is returned, balance is {self.funddep}')\n",
    "    \n",
    "    def gbet(self):\n",
    "        \n",
    "        if self.funddep >= self.pbet:\n",
    "            self.funddep -= self.pbet\n",
    "            print(f'you have place a bet of {self.pbet}')\n",
    "            print(f'you still have {self.funddep} availble for betting')\n",
    "        else:\n",
    "            print(f'you can not place any bet, you are low on fund. your balance is {self.funddep}')\n",
    "    def details (self):\n",
    "        print(f'Player: {self.name}')\n",
    "        return f'Account balance: {self.funddep}'\n",
    "       \n",
    "    def blackjack (self):\n",
    "        if self.playersum == 21 and 'blackjack' == self.decision:\n",
    "            print (f'{self.name} has blackjack')\n",
    "            Gamerules.winn(self)\n",
    "            Gameplay.endgame(self)\n",
    "        else:\n",
    "            print ('you do not have blackjack as sum of your card is not 21. Make another decision')\n",
    "            Gameplay.decisions (self)\n",
    "    def surrender (self):\n",
    "        if 'surrender' == self.decision:\n",
    "            print (f'{self.name} has surrendered')\n",
    "            Gamerules.half(self)\n",
    "    def split (self):\n",
    "        if 'split' == self.decision and self.cardn[0] == self.cardn[1] and len(self.cardn1) == 0 :\n",
    "            if self.funddep >= 2*self.pbet:\n",
    "                self.funddep -= self.pbet\n",
    "                print (f'{self.name} has splited card ')\n",
    "                self.cardn1.append(self.cardn[0])\n",
    "                self.cardn2.append(self.cardn[1])\n",
    "                print(f'you have place an extra bet of {self.pbet}')\n",
    "                print(f'you still have {self.funddep} availble for betting')\n",
    "                self.cardn1.append(self.deckcards[self.gamecount])\n",
    "                self.gamecount +=1\n",
    "                self.cardn2.append(self.deckcards[self.gamecount])\n",
    "                self.gamecount +=1\n",
    "                print(f'{self.name} here are your 2 sets of cards: Hand 1 {self.cardn1} and Hand 2 {self.cardn2}')\n",
    "                choice = int(input('which hand do you want to focus on 1 or 2 ? '))\n",
    "                for op in [1,2]:\n",
    "                    if choice == 1:\n",
    "                        print('You are now focusing in hand 1')\n",
    "                        self.splita='checkcheck'\n",
    "                        self.playersum = sum(self.cardn1)\n",
    "                        self.cardn = self.cardn1\n",
    "                        Gameplay.cvalues(self)\n",
    "                        Gameplay.checkstatus1 (self)\n",
    "                        if self.splitas == 'roll':\n",
    "                            choice = 2\n",
    "                            continue\n",
    "                        Gameplay.decisions (self)\n",
    "                        Gameplay.cvalues(self)\n",
    "                        choice = 2\n",
    "                        self.cardnh1 = self.cardn\n",
    "                    elif choice ==2:\n",
    "                        print('You are now focusing in hand 2')\n",
    "                        self.splita='checkcheck'\n",
    "                        self.playersum2 = sum(self.cardn2)\n",
    "                        self.cardn2 = self.cardn2\n",
    "                        Gameplay.cvalues(self)\n",
    "                        Gameplay.checkstatus1 (self)\n",
    "                        if self.splitas == 'roll':\n",
    "                            choice = 1\n",
    "                            continue\n",
    "                        Gameplay.decisions (self)\n",
    "                        Gameplay.cvalues(self)\n",
    "                        choice = 1\n",
    "                        self.cardnh2 = self.cardn\n",
    "            else:\n",
    "                print(f'You can not split, you are low on fund. your balance is {self.funddep} make another decision')\n",
    "                Gameplay.decisions (self)\n",
    "        else:\n",
    "            print('Both cards do not have same values- also you can only split or double the first two cards. Make another decision')\n",
    "            Gameplay.decisions (self)\n",
    "    def double (self):\n",
    "        if 'double' == self.decision and len(self.cardn) <=2 :\n",
    "            if self.funddep >= 2*self.pbet:\n",
    "                self.funddep -= self.pbet\n",
    "                print(f'you have place an extra bet of {self.pbet}')\n",
    "                print(f'you still have {self.funddep} availble for betting')\n",
    "                self.cardn.append(self.deckcards[self.gamecount])\n",
    "                print (f'you have drawn card: {self.deckcards[self.gamecount]}')\n",
    "                self.gamecount +=1\n",
    "            else:\n",
    "                print(f'You can not place an extra bet, you are low on fund. your balance is {self.funddep}. Make another decision')\n",
    "                Gameplay.decisions (self)\n",
    "        else:\n",
    "            print('You can only split or double the first two cards. Make another decision')\n",
    "            Gameplay.decisions (self)\n",
    "\n",
    "    def stand(self):\n",
    "        if self.decision == 'stand':\n",
    "            print (f'{self.name} has decided to stand ')\n",
    "    def hit (self):\n",
    "        if self.decision == 'hit':\n",
    "            self.cardn.append(self.deckcards[self.gamecount])\n",
    "            print (f'you have drawn card: {self.deckcards[self.gamecount]}')\n",
    "            self.gamecount +=1\n",
    "        \n",
    "   "
   ]
  },
  {
   "cell_type": "code",
   "execution_count": null,
   "metadata": {},
   "outputs": [],
   "source": []
  },
  {
   "cell_type": "code",
   "execution_count": 10,
   "metadata": {},
   "outputs": [],
   "source": [
    "class Gameplay(Gamerules):\n",
    "    def __init__(self):\n",
    "        self.cardn =[]\n",
    "        self.dealern =[]\n",
    "        self.cardn1=[]\n",
    "        self.cardn2=[]\n",
    "        self.gamecount=0\n",
    "        self.dealersum = sum(self.dealern)\n",
    "        self.playersum = sum(self.cardn)     \n",
    "        self.end =''\n",
    "        self.name = input('Please enter your name: ')\n",
    "    def start (self):\n",
    "        self.decision=''\n",
    "        self.cardnh1 =[]\n",
    "        self.cardnh2 = []\n",
    "        self.splita='notcheck'\n",
    "        self.splitas = 'ntrolls'\n",
    "        Gamerules.instructions(self)\n",
    "        Gamerules.carddeck(self)\n",
    "        self.deckcards=self.deck4\n",
    "        self.funddep = int(input('Enter the total amount you have available for playing the game: '))\n",
    "\n",
    "    def bet (self):\n",
    "        \n",
    "        self.pbet = int(input('Enter your bet for this round: '))\n",
    "        from IPython.display import clear_output\n",
    "        clear_output()\n",
    "        Gamerules.gbet(self)\n",
    "    def distribute (self):\n",
    "        \n",
    "        self.cardn =[]\n",
    "        self.dealern =[]\n",
    "        self.cardn1=[]\n",
    "        self.cardn2=[]\n",
    "        self.gamecount=0\n",
    "        for i in [1,2]:\n",
    "            self.cardn.append(self.deckcards[self.gamecount])\n",
    "            self.gamecount +=1\n",
    "            self.dealern.append(self.deckcards[self.gamecount])\n",
    "            self.gamecount +=1\n",
    "        print(f'{self.name} here are your cards: {self.cardn}')\n",
    "        print(f'This is one of the dealers card: {self.dealern[0]}')\n",
    "    def distributedealer (self):\n",
    "        dist = True\n",
    "        self.dealersum = sum(self.dealern)\n",
    "        while dist:\n",
    "            if self.dealersum <= 16:\n",
    "                self.dealern.append(self.deckcards[self.gamecount])\n",
    "                Gameplay.cvalues(self)\n",
    "                self.gamecount +=1\n",
    "                self.dealersum = sum(self.dealern)\n",
    "                if self.dealersum >= 16:\n",
    "                    dist= False\n",
    "                    break\n",
    "            else:\n",
    "                dist= False\n",
    "                break\n",
    "        Gameplay.cvalues(self)\n",
    "    def cvalues (self):\n",
    "        self.carddict = {'Jack':10, 'Queen': 10, 'King': 10, 'Ace':[1,11]}\n",
    "        facecard =['Jack','Queen','King','Ace']\n",
    "        dealercard=0\n",
    "        for ii in range(0,len(self.cardn)):\n",
    "            for fc in facecard:\n",
    "                if fc == 'Ace' and fc in self.cardn:\n",
    "                    adecide= int(input('What value do you want your Ace card to be 1 or 11 ? '))\n",
    "                    self.cardn.remove(fc)\n",
    "                    self.cardn.append(adecide)\n",
    "                elif fc != 'Ace' and fc in self.cardn:\n",
    "                    self.cardn.remove(fc)\n",
    "                    self.cardn.append(self.carddict[fc])\n",
    "        for jj in range(0,len(self.dealern)):\n",
    "            for kk in self.dealern:\n",
    "                if isinstance(kk, int):\n",
    "                    dealercard +=kk\n",
    "            for fc in facecard:\n",
    "                if fc == 'Ace' and fc in self.dealern:\n",
    "                    if dealercard <= 10:\n",
    "                        self.dealern.remove(fc)\n",
    "                        self.dealern.append(11)\n",
    "                    elif dealercard > 10:\n",
    "                        self.dealern.remove(fc)\n",
    "                        self.dealern.append(1)\n",
    "                elif fc != 'Ace' and fc in self.dealern:\n",
    "                    self.dealern.remove(fc)\n",
    "                    self.dealern.append(self.carddict[fc])\n",
    "                    \n",
    "    def checkstatus1 (self):\n",
    "        self.end =''\n",
    "        self.dealersum = sum(self.dealern)\n",
    "        self.playersum = sum(self.cardn)\n",
    "        if self.dealersum == 21 and self.playersum != 21:\n",
    "            print (f'Dealer has blackjack 21, Dealer wins the game with {self.dealersum}')\n",
    "            self.end = 'ender'\n",
    "            if self.splita != 'checkcheck': \n",
    "                Gameplay.endgame(self)\n",
    "            elif self.splita == 'checkcheck':\n",
    "                self.splitas = 'roll'\n",
    "        elif self.playersum == 21 and self.dealersum != 21:\n",
    "            print (f'Blackjack {self.name} wins the game with {self.playersum}')\n",
    "            self.end = 'ender'\n",
    "            Gamerules.winn(self)\n",
    "            if self.splita != 'checkcheck': \n",
    "                Gameplay.endgame(self)\n",
    "            elif self.splita == 'checkcheck':\n",
    "                self.splitas = 'roll'\n",
    "        elif self.playersum == 21 and self.dealersum == 21:\n",
    "            print (' Game is a draw ')\n",
    "            self.end = 'ender'\n",
    "            Gamerules.dcredit(self)\n",
    "            if self.splita != 'checkcheck': \n",
    "                Gameplay.endgame(self)\n",
    "            elif self.splita == 'checkcheck':\n",
    "                self.splitas = 'roll'\n",
    "    def checkstatus (self):\n",
    "        self.end =''\n",
    "        self.dealersum = sum(self.dealern)\n",
    "        self.playersum = sum(self.cardn)\n",
    "        if self.dealersum > 21 and self.playersum <21:\n",
    "            print (f'Dealer busrted {self.name} wins the game with {self.playersum}')\n",
    "            self.end = 'ender'\n",
    "            if self.splita != 'checkcheck': \n",
    "                Gameplay.endgame(self)\n",
    "        elif self.playersum > 21 and self.dealersum <21:\n",
    "            print (f'{self.name} busrted, Dealer wins the game with {self.dealersum}')\n",
    "            self.end = 'ender'\n",
    "            if self.splita != 'checkcheck': \n",
    "                Gameplay.endgame(self)\n",
    "        elif self.dealersum > self.playersum and self.dealersum <= 21:\n",
    "            print (f'Dealer wins the game with {self.dealersum}')\n",
    "            self.end = 'ender'\n",
    "            if self.splita != 'checkcheck': \n",
    "                Gameplay.endgame(self)\n",
    "        elif self.dealersum < self.playersum and self.playersum <= 21:\n",
    "            print (f'{self.name} wins the game with {self.playersum}') \n",
    "            self.end = 'ender'\n",
    "            if self.splita != 'checkcheck': \n",
    "                Gameplay.endgame(self)\n",
    "        elif self.dealersum == self.playersum and self.playersum <= 21:\n",
    "            if len(self.dealern) > len(self.cardn):\n",
    "                print (f'{self.name} wins the game with {self.playersum}')\n",
    "                self.end = 'ender'\n",
    "                if self.splita != 'checkcheck': \n",
    "                    Gameplay.endgame(self)\n",
    "            elif len(self.dealern) < len(self.cardn):\n",
    "                print (f'Dealer wins the game with {self.dealersum}')\n",
    "                self.end = 'ender'\n",
    "                if self.splita != 'checkcheck': \n",
    "                    Gameplay.endgame(self)\n",
    "            elif len(self.dealern) == len(self.cardn):\n",
    "                print ('The game is a draw!')\n",
    "                self.end = 'ender'\n",
    "                if self.splita != 'checkcheck': \n",
    "                    Gameplay.endgame(self)\n",
    "    def decisions (self):\n",
    "        print ('Here are your options')\n",
    "        print ('blackjack, surrender, split, double, stand, hit ... Note you cannot split more than once ')\n",
    "        self.decision = input('Pls input you decision here: ')\n",
    "        if 'blackjack' == self.decision:\n",
    "            Gamerules.blackjack(self)\n",
    "        elif 'surrender' == self.decision:\n",
    "            Gamerules.surrender(self)\n",
    "            self.end = 'ender'\n",
    "            Gameplay.endgame(self)\n",
    "        elif 'split' == self.decision:\n",
    "            Gamerules.split(self)\n",
    "            Gameplay.distributedealer(self) \n",
    "            self.hand = 1\n",
    "            for sp in [1,2]:\n",
    "                if self.hand == 1:\n",
    "                    self.cardn = self.cardnh1\n",
    "                    Gameplay.checkstatus(self)\n",
    "                    self.hand+=1\n",
    "                elif self.hand == 2:\n",
    "                    self.cardn = self.cardnh2\n",
    "                    Gameplay.checkstatus(self)\n",
    "                    self.hand+=1\n",
    "            self.end = 'ender'\n",
    "            Gameplay.endgame(self)\n",
    "        elif 'double' == self.decision:\n",
    "            Gamerules.double(self)\n",
    "            Gameplay.cvalues(self)\n",
    "        elif 'stand' == self.decision:\n",
    "            Gamerules.stand(self)\n",
    "        elif 'hit' == self.decision:\n",
    "            Gamerules.hit(self)\n",
    "            Gameplay.cvalues(self)\n",
    "        else:\n",
    "            print ('wrong input, make sure its the correct word in lower case')\n",
    "            Gameplay.decisions(self)\n",
    "    #def splitgame(self):\n",
    "       # if self.decision == 'split':\n",
    "\n",
    "    def endgame (self):\n",
    "        self.endt=True\n",
    "        if self.end == 'ender':\n",
    "            lasttime=input('Do you wnat to end game Y/N : ')\n",
    "            if lasttime =='Y':\n",
    "                print('Thanks Goodbye')\n",
    "                return\n",
    "            \n",
    "            elif lasttime == 'N':\n",
    "                Gameplay.play(self)\n",
    "    def play (self):\n",
    "        self.endt=False\n",
    "        Gameplay.start (self)\n",
    "        Gameplay.bet (self)\n",
    "        Gameplay.distribute (self)\n",
    "        Gameplay.cvalues (self)\n",
    "        Gameplay.checkstatus1 (self)\n",
    "        Gameplay.decisions (self)\n",
    "        if self.endt== False:\n",
    "            Gameplay.distributedealer (self)\n",
    "            Gameplay.checkstatus (self)\n",
    "        elif self.endt== True:\n",
    "            return"
   ]
  },
  {
   "cell_type": "code",
   "execution_count": null,
   "metadata": {},
   "outputs": [],
   "source": []
  },
  {
   "cell_type": "code",
   "execution_count": 11,
   "metadata": {},
   "outputs": [
    {
     "name": "stdout",
     "output_type": "stream",
     "text": [
      "you have place a bet of 1\n",
      "you still have 2 availble for betting\n",
      "3 here are your cards: [6, 'Jack']\n",
      "This is one of the dealers card: 2\n",
      "Here are your options\n",
      "blackjack, surrender, split, double, stand, hit ... Note you cannot split more than once \n",
      "Pls input you decision here: surrender\n",
      "3 has surrendered\n",
      "You have lost half of your bet, balance is 2.5\n",
      "Do you wnat to end game Y/N : Y\n",
      "Thanks Goodbye\n"
     ]
    }
   ],
   "source": [
    "fdf=Gameplay()\n",
    "fdf.play()"
   ]
  },
  {
   "cell_type": "code",
   "execution_count": null,
   "metadata": {},
   "outputs": [],
   "source": []
  },
  {
   "cell_type": "code",
   "execution_count": null,
   "metadata": {},
   "outputs": [],
   "source": []
  },
  {
   "cell_type": "code",
   "execution_count": null,
   "metadata": {},
   "outputs": [],
   "source": []
  },
  {
   "cell_type": "code",
   "execution_count": null,
   "metadata": {},
   "outputs": [],
   "source": [
    "\n",
    "\n",
    "\n"
   ]
  },
  {
   "cell_type": "code",
   "execution_count": 38,
   "metadata": {},
   "outputs": [],
   "source": [
    "tst = Definitions ()"
   ]
  },
  {
   "cell_type": "code",
   "execution_count": 39,
   "metadata": {},
   "outputs": [
    {
     "name": "stdout",
     "output_type": "stream",
     "text": [
      "Enter your bet for this round: 5\n"
     ]
    }
   ],
   "source": [
    "tst.bet()"
   ]
  },
  {
   "cell_type": "code",
   "execution_count": 40,
   "metadata": {},
   "outputs": [
    {
     "name": "stdout",
     "output_type": "stream",
     "text": [
      "Enter the total amount you have available for playing the game: 22\n"
     ]
    }
   ],
   "source": [
    "\n",
    "tst.fund()"
   ]
  },
  {
   "cell_type": "code",
   "execution_count": null,
   "metadata": {},
   "outputs": [],
   "source": []
  },
  {
   "cell_type": "code",
   "execution_count": null,
   "metadata": {},
   "outputs": [],
   "source": []
  },
  {
   "cell_type": "code",
   "execution_count": 41,
   "metadata": {},
   "outputs": [
    {
     "name": "stdout",
     "output_type": "stream",
     "text": [
      "you have place a bet of 5\n",
      "you have 17 availble for betting\n"
     ]
    }
   ],
   "source": [
    "tst.gbet()"
   ]
  },
  {
   "cell_type": "code",
   "execution_count": 167,
   "metadata": {},
   "outputs": [],
   "source": [
    "class ddd():  \n",
    "    def __init__(self):\n",
    "        self.ins=''\n",
    "        \n",
    "    def carddec (self):\n",
    "        from random import shuffle\n",
    "        #define a deck of card\n",
    "        deck1=[2,3,4,5,6,7,8,9,10,'Jack','Queen','King','Ace',2,3,4,5,6,7,8,9,10,'Jack','Queen','King','Ace',2,3,4,5,6,7,8,9,10,'Jack','Queen','King','Ace',2,3,4,5,6,7,8,9,10,'Jack','Queen','King','Ace']\n",
    "        deck2=[2,3,4,5,6,7,8,9,10,'Jack','Queen','King','Ace',2,3,4,5,6,7,8,9,10,'Jack','Queen','King','Ace',2,3,4,5,6,7,8,9,10,'Jack','Queen','King','Ace',2,3,4,5,6,7,8,9,10,'Jack','Queen','King','Ace']\n",
    "        deck3=[2,3,4,5,6,7,8,9,10,'Jack','Queen','King','Ace',2,3,4,5,6,7,8,9,10,'Jack','Queen','King','Ace',2,3,4,5,6,7,8,9,10,'Jack','Queen','King','Ace',2,3,4,5,6,7,8,9,10,'Jack','Queen','King','Ace']\n",
    "        self.deck=deck1+deck2+deck3\n",
    "        shuffle(self.deck)\n",
    "    def trry (self):\n",
    "        print('nd')\n",
    "class fff(ddd):\n",
    "    def __init__(self):\n",
    "        self.ins=''\n",
    "    def stt (self):\n",
    "        ddd.carddec(self)\n",
    "        self.rr=[]\n",
    "        self.rrr=[]\n",
    "        self.gc=0\n",
    "        for i in [1,2]:\n",
    "            self.rr.append(self.deck[self.gc])\n",
    "            self.gc +=1\n",
    "            self.rrr.append(self.deck[self.gc])\n",
    "            self.gc +=1\n",
    "        print(self.deck)\n",
    "        \n",
    "    def yyt(self):\n",
    "        if 1 == 2:\n",
    "            print ('hi')\n",
    "        else:\n",
    "            print('jjuy')\n",
    "    def tty (self):\n",
    "        print (self.rr)\n",
    "        print (self.rrr)\n",
    "        dd=input('here ')\n",
    "        cc='fff.'+dd+'(self)'\n",
    "        bb=eval(cc)\n",
    "        bb\n",
    "        \n",
    "    "
   ]
  },
  {
   "cell_type": "code",
   "execution_count": 168,
   "metadata": {},
   "outputs": [],
   "source": [
    "dd=ddd()\n",
    "dd.carddec()"
   ]
  },
  {
   "cell_type": "code",
   "execution_count": 169,
   "metadata": {},
   "outputs": [],
   "source": [
    "ww=fff()"
   ]
  },
  {
   "cell_type": "code",
   "execution_count": 170,
   "metadata": {},
   "outputs": [
    {
     "name": "stdout",
     "output_type": "stream",
     "text": [
      "[2, 'King', 5, 2, 'Ace', 'Jack', 5, 2, 'King', 'Ace', 5, 'Queen', 4, 'Jack', 'Queen', 9, 'King', 'King', 4, 7, 3, 3, 8, 2, 2, 'King', 9, 8, 8, 5, 9, 10, 'Jack', 'Ace', 7, 4, 3, 6, 9, 'Jack', 10, 'King', 7, 9, 6, 8, 3, 5, 8, 6, 10, 6, 10, 4, 9, 2, 'Queen', 'King', 2, 3, 'Jack', 'Queen', 'Ace', 'Jack', 7, 6, 'Ace', 'King', 4, 4, 4, 7, 9, 6, 'King', 10, 3, 6, 7, 10, 'Queen', 6, 10, 'Queen', 7, 5, 8, 'Queen', 8, 'King', 'Ace', 5, 'Jack', 8, 'Queen', 2, 7, 3, 10, 3, 4, 'King', 8, 'Jack', 4, 2, 4, 3, 8, 6, 5, 6, 'Ace', 2, 9, 'Jack', 3, 9, 'Ace', 5, 10, 'Jack', 2, 8, 'Queen', 'Ace', 'Ace', 'Jack', 7, 'Queen', 'Ace', 3, 3, 7, 6, 4, 10, 'King', 10, 5, 9, 5, 8, 10, 'Ace', 2, 7, 7, 'Jack', 'Queen', 9, 9, 6, 4, 'Queen', 5]\n"
     ]
    }
   ],
   "source": [
    "ww.stt()\n"
   ]
  },
  {
   "cell_type": "code",
   "execution_count": 171,
   "metadata": {},
   "outputs": [
    {
     "name": "stdout",
     "output_type": "stream",
     "text": [
      "[2, 5]\n",
      "['King', 2]\n",
      "here trry\n"
     ]
    },
    {
     "ename": "AttributeError",
     "evalue": "type object 'fff' has no attribute 'dd'",
     "output_type": "error",
     "traceback": [
      "\u001b[1;31m---------------------------------------------------------------------------\u001b[0m",
      "\u001b[1;31mAttributeError\u001b[0m                            Traceback (most recent call last)",
      "\u001b[1;32m<ipython-input-171-0b32476f7072>\u001b[0m in \u001b[0;36m<module>\u001b[1;34m\u001b[0m\n\u001b[1;32m----> 1\u001b[1;33m \u001b[0mww\u001b[0m\u001b[1;33m.\u001b[0m\u001b[0mtty\u001b[0m\u001b[1;33m(\u001b[0m\u001b[1;33m)\u001b[0m\u001b[1;33m\u001b[0m\u001b[1;33m\u001b[0m\u001b[0m\n\u001b[0m",
      "\u001b[1;32m<ipython-input-167-2f9083f0a428>\u001b[0m in \u001b[0;36mtty\u001b[1;34m(self)\u001b[0m\n\u001b[0;32m     37\u001b[0m         \u001b[0mprint\u001b[0m \u001b[1;33m(\u001b[0m\u001b[0mself\u001b[0m\u001b[1;33m.\u001b[0m\u001b[0mrrr\u001b[0m\u001b[1;33m)\u001b[0m\u001b[1;33m\u001b[0m\u001b[1;33m\u001b[0m\u001b[0m\n\u001b[0;32m     38\u001b[0m         \u001b[0mdd\u001b[0m\u001b[1;33m=\u001b[0m\u001b[0minput\u001b[0m\u001b[1;33m(\u001b[0m\u001b[1;34m'here '\u001b[0m\u001b[1;33m)\u001b[0m\u001b[1;33m\u001b[0m\u001b[1;33m\u001b[0m\u001b[0m\n\u001b[1;32m---> 39\u001b[1;33m         \u001b[0mbb\u001b[0m\u001b[1;33m=\u001b[0m\u001b[0meval\u001b[0m\u001b[1;33m(\u001b[0m\u001b[0mfff\u001b[0m\u001b[1;33m.\u001b[0m\u001b[0mdd\u001b[0m\u001b[1;33m(\u001b[0m\u001b[0mself\u001b[0m\u001b[1;33m)\u001b[0m\u001b[1;33m)\u001b[0m\u001b[1;33m\u001b[0m\u001b[1;33m\u001b[0m\u001b[0m\n\u001b[0m\u001b[0;32m     40\u001b[0m         \u001b[0mbb\u001b[0m\u001b[1;33m\u001b[0m\u001b[1;33m\u001b[0m\u001b[0m\n\u001b[0;32m     41\u001b[0m \u001b[1;33m\u001b[0m\u001b[0m\n",
      "\u001b[1;31mAttributeError\u001b[0m: type object 'fff' has no attribute 'dd'"
     ]
    }
   ],
   "source": [
    "ww.tty()"
   ]
  },
  {
   "cell_type": "code",
   "execution_count": 95,
   "metadata": {},
   "outputs": [
    {
     "ename": "NameError",
     "evalue": "name 'ghj' is not defined",
     "output_type": "error",
     "traceback": [
      "\u001b[1;31m---------------------------------------------------------------------------\u001b[0m",
      "\u001b[1;31mNameError\u001b[0m                                 Traceback (most recent call last)",
      "\u001b[1;32m<ipython-input-95-50db265f2e77>\u001b[0m in \u001b[0;36m<module>\u001b[1;34m\u001b[0m\n\u001b[0;32m      1\u001b[0m \u001b[0mghj\u001b[0m\u001b[1;33m=\u001b[0m\u001b[1;34m'dfefe'\u001b[0m\u001b[1;33m\u001b[0m\u001b[1;33m\u001b[0m\u001b[0m\n\u001b[0;32m      2\u001b[0m \u001b[1;32mdel\u001b[0m\u001b[1;33m(\u001b[0m\u001b[0mghj\u001b[0m\u001b[1;33m)\u001b[0m\u001b[1;33m\u001b[0m\u001b[1;33m\u001b[0m\u001b[0m\n\u001b[1;32m----> 3\u001b[1;33m \u001b[0mghj\u001b[0m\u001b[1;33m\u001b[0m\u001b[1;33m\u001b[0m\u001b[0m\n\u001b[0m",
      "\u001b[1;31mNameError\u001b[0m: name 'ghj' is not defined"
     ]
    }
   ],
   "source": [
    "ghj='dfefe'\n",
    "del(ghj)\n",
    "ghj"
   ]
  },
  {
   "cell_type": "code",
   "execution_count": 91,
   "metadata": {},
   "outputs": [],
   "source": [
    "tsts=Gamerules()"
   ]
  },
  {
   "cell_type": "code",
   "execution_count": 255,
   "metadata": {},
   "outputs": [],
   "source": [
    "cardt = {'Jack':10, 'Queen': 10, 'King': 10, 'Ace':[1,11]}\n",
    "aa=cardt\n",
    "\n"
   ]
  },
  {
   "cell_type": "code",
   "execution_count": 226,
   "metadata": {},
   "outputs": [
    {
     "name": "stdout",
     "output_type": "stream",
     "text": [
      "5\n"
     ]
    }
   ],
   "source": [
    "dds=[1,3]\n",
    "\n",
    "if ssa <15:\n",
    "    dds.append(1)\n",
    "    ssa= sum(dds)\n",
    "    print (ssa)\n",
    "        "
   ]
  },
  {
   "cell_type": "code",
   "execution_count": 3,
   "metadata": {},
   "outputs": [],
   "source": [
    "def ghh ():\n",
    "    for i in range(0,6):\n",
    "        print (i)\n",
    "        if i == 2:\n",
    "            print ('hud')\n",
    "            continue\n",
    "            print('real')\n",
    "            #raise Exception(\"its 4\")"
   ]
  },
  {
   "cell_type": "code",
   "execution_count": 4,
   "metadata": {},
   "outputs": [
    {
     "name": "stdout",
     "output_type": "stream",
     "text": [
      "0\n",
      "1\n",
      "2\n",
      "hud\n",
      "3\n",
      "4\n",
      "5\n"
     ]
    }
   ],
   "source": [
    "jkl=ghh()"
   ]
  },
  {
   "cell_type": "code",
   "execution_count": null,
   "metadata": {},
   "outputs": [],
   "source": []
  }
 ],
 "metadata": {
  "kernelspec": {
   "display_name": "Python 3",
   "language": "python",
   "name": "python3"
  },
  "language_info": {
   "codemirror_mode": {
    "name": "ipython",
    "version": 3
   },
   "file_extension": ".py",
   "mimetype": "text/x-python",
   "name": "python",
   "nbconvert_exporter": "python",
   "pygments_lexer": "ipython3",
   "version": "3.7.3"
  }
 },
 "nbformat": 4,
 "nbformat_minor": 2
}
