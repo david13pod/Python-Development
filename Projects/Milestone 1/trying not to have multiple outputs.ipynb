{
 "cells": [
  {
   "cell_type": "code",
   "execution_count": null,
   "metadata": {},
   "outputs": [],
   "source": [
    "\n"
   ]
  },
  {
   "cell_type": "code",
   "execution_count": null,
   "metadata": {},
   "outputs": [],
   "source": []
  },
  {
   "cell_type": "code",
   "execution_count": 2,
   "metadata": {},
   "outputs": [],
   "source": [
    "def setup():\n",
    "    print('This game is the popular X and O game. 2 players will choose their marker uppercase X or O')\n",
    "    print('The board of the game is as shown below. Your marker X or O will be placed in the same position')\n",
    "    print('of the numbers you input as it is on the board. Kindly take note of this numbers and their position')\n",
    "    print ('You know the rules of X and O, so lets get to it. Have fun!')\n",
    "    print (' ||     ||     ||     ||')\n",
    "    print (' || (1) || (2) || (3) ||')\n",
    "    print (' ||_____||_____||_____||')\n",
    "    print (' ||     ||     ||     ||')\n",
    "    print (' || (4) || (5) || (6) ||')\n",
    "    print (' ||_____||_____||_____||')\n",
    "    print (' ||     ||     ||     ||')\n",
    "    print (' || (7) || (8) || (9) ||')\n",
    "    print (' ||     ||     ||     ||')\n",
    "    \n",
    "\n",
    "    global board, board2, p, player1, player2, pp, mark\n",
    "    board = [1,2,3,4,5,6,7,8,9]\n",
    "    board2 = [1,2,3,4,5,6,7,8,9]\n",
    "    p=[' ',' ',' ',' ',' ',' ',' ',' ',' ',' ']\n",
    "    pp=['i','j','k','l','m','n','o','p','q']\n",
    "    mark=True\n",
    "    while mark:\n",
    "        player1 = input('Choose your marker Player 1, uppercase X or O ')\n",
    "        if player1 == 'X':\n",
    "            player2 = 'O'\n",
    "            print ('Player1 your marker is X')\n",
    "            print ('Player2 your marker is O')\n",
    "            mark= False\n",
    "            continue\n",
    "        elif player1 == 'O':\n",
    "            player2 = 'X'\n",
    "            print ('Player1 your marker is O')\n",
    "            print ('Player2 your marker is X')\n",
    "            mark= False\n",
    "            continue            \n",
    "        else:\n",
    "            print ('Player 1 enter uppercase X or O for your marker, thanks.')\n",
    "            \n",
    "    gameplay()\n",
    "\n",
    "pass"
   ]
  },
  {
   "cell_type": "code",
   "execution_count": null,
   "metadata": {},
   "outputs": [],
   "source": []
  },
  {
   "cell_type": "code",
   "execution_count": 25,
   "metadata": {},
   "outputs": [],
   "source": [
    "def boardprnt(p):\n",
    "    print (' ||     ||     ||     ||')\n",
    "    print (f' ||  {p[0]}  ||  {p[1]}  ||  {p[2]}  ||')\n",
    "    print (' ||_____||_____||_____||')\n",
    "    print (' ||     ||     ||     ||')\n",
    "    print (f' ||  {p[3]}  ||  {p[4]}  ||  {p[5]}  ||')\n",
    "    print (' ||_____||_____||_____||')\n",
    "    print (' ||     ||     ||     ||')\n",
    "    print (f' ||  {p[6]}  ||  {p[7]}  ||  {p[8]}  ||')\n",
    "    print (' ||     ||     ||     ||')\n",
    "    \n",
    "\n",
    "pass"
   ]
  },
  {
   "cell_type": "code",
   "execution_count": 23,
   "metadata": {},
   "outputs": [],
   "source": [
    "def endgame():\n",
    "    replay = input ('Do you want to play again? Enter upper case Y or N ')\n",
    "    if replay == 'Y':\n",
    "        newgame()\n",
    "    else:\n",
    "        print ('Thanks for playing! Tschuss')\n",
    "        ade = False\n",
    "    \n",
    "pass\n"
   ]
  },
  {
   "cell_type": "code",
   "execution_count": 17,
   "metadata": {},
   "outputs": [],
   "source": [
    "def gamers():\n",
    "    gamer1 = int(input(\"Player 1 Enter the number corresponding to where you want to place your marker according to the game's instruction\"))\n",
    "    if gamer1 in board:\n",
    "        indexer1=board2.index(gamer1)\n",
    "        p[indexer1]= player1\n",
    "        pp[indexer1]= player1\n",
    "        board.remove(gamer1)\n",
    "    else:\n",
    "        print ('Player 1 Please enter a number between 1-9 that has not already been used')    \n",
    "    "
   ]
  },
  {
   "cell_type": "code",
   "execution_count": 16,
   "metadata": {},
   "outputs": [],
   "source": [
    "def gamers2():\n",
    "    gamer2 = int(input(\"Player 2 Enter the number corresponding to where you want to place your marker according to the game's instruction\"))\n",
    "    if gamer2 in board:\n",
    "        indexer2=board2.index(gamer2)\n",
    "        p[indexer2]= player2\n",
    "        pp[indexer2]= player2\n",
    "        print (player2)\n",
    "        board.remove(gamer2)\n",
    "    else:\n",
    "        print ('Player 1 Please enter a number between 1-9 that has not already been used')  "
   ]
  },
  {
   "cell_type": "code",
   "execution_count": 26,
   "metadata": {},
   "outputs": [],
   "source": [
    "def gameplay():\n",
    "    gturn1 = True\n",
    "    gturn2 = True\n",
    "    replay= ''\n",
    "    while gturn1:\n",
    "        if gturn2:\n",
    "            gamers()\n",
    "            boardprnt(p)\n",
    "            gturn2= False\n",
    "            decider ()\n",
    "            if p[9] == 'endgame':\n",
    "                gturn1= False\n",
    "            \n",
    " \n",
    "        else:\n",
    "            gamers2()\n",
    "            boardprnt(p)      \n",
    "            gturn2= True\n",
    "            decider ()\n",
    "            if p[9] == 'endgame':\n",
    "                gturn1= False\n",
    "                \n",
    "    if p[9] == 'endgame':\n",
    "        endgame() \n",
    "\n",
    "\n",
    "pass"
   ]
  },
  {
   "cell_type": "code",
   "execution_count": 6,
   "metadata": {},
   "outputs": [],
   "source": [
    "def decider ():\n",
    "    deal = True\n",
    "    while deal:\n",
    "        if pp[0]==pp[1]==pp[2]:\n",
    "            deal= False\n",
    "            p[9] = 'endgame'\n",
    "            if player1 == pp[0]==pp[1]==pp[2]:\n",
    "                print (f'Player 1 has won!, {p[0]} has won!') \n",
    "            elif player2 == pp[0]==pp[1]==pp[2]:\n",
    "                print (f'Player 2 has won!, {p[0]} has won!')\n",
    "        elif pp[0]==pp[3]==pp[6]:\n",
    "            deal= False\n",
    "            p[9] = 'endgame'\n",
    "            if player1 == pp[0]==pp[3]==pp[6]:\n",
    "                print (f'Player 1 has won!, {p[0]} has won!')\n",
    "                \n",
    "            elif player2 == pp[0]==pp[3]==pp[6]:\n",
    "                print (f'Player 2 has won!, {p[0]} has won!')\n",
    "                \n",
    "        elif pp[0]==pp[4]==pp[8]:\n",
    "            deal= False\n",
    "            p[9] = 'endgame'\n",
    "            if player1 == pp[0]==pp[4]==pp[8]:\n",
    "                print (f'Player 1 has won!, {p[0]} has won!')\n",
    "               \n",
    "            elif player2 == pp[0]==pp[4]==pp[8]:\n",
    "                print (f'Player 2 has won!, {p[0]} has won!')\n",
    "                \n",
    "        elif pp[1]==pp[4]==pp[7]:\n",
    "            deal= False\n",
    "            p[9] = 'endgame'\n",
    "            if player1 == pp[1]==pp[4]==pp[7]:\n",
    "                print (f'Player 1 has won!, {p[1]} has won!')\n",
    "               \n",
    "            elif player2 == pp[1]==pp[4]==pp[7]:\n",
    "                print (f'Player 2 has won!, {p[1]} has won!')\n",
    "             \n",
    "        elif pp[2]==pp[5]==pp[8]:\n",
    "            deal= False\n",
    "            p[9] = 'endgame'\n",
    "            if player1 == pp[2]==pp[5]==pp[8]:\n",
    "                print (f'Player 1 has won!, {p[2]} has won!')\n",
    "               \n",
    "            elif player2 == pp[2]==pp[5]==pp[8]:\n",
    "                print (f'Player 2 has won!, {p[2]} has won!')\n",
    "               \n",
    "        elif pp[2]==pp[4]==pp[6]:\n",
    "            deal= False\n",
    "            p[9] = 'endgame'\n",
    "            if player1 == pp[2]==pp[4]==pp[6]:\n",
    "                print (f'Player 1 has won!, {p[2]} has won!')\n",
    "              \n",
    "            elif player2 == pp[2]==pp[4]==pp[6]:\n",
    "                print (f'Player 2 has won!, {p[2]} has won!')\n",
    "              \n",
    "        elif pp[3]==pp[4]==pp[5]:\n",
    "            deal= False\n",
    "            p[9] = 'endgame'\n",
    "            if player1 == pp[3]==pp[4]==pp[5]:\n",
    "                print (f'Player 1 has won!, {p[3]} has won!')\n",
    "            \n",
    "            elif player2 ==pp[3]==pp[4]==pp[5]:\n",
    "                print (f'Player 2 has won!, {p[3]} has won!')\n",
    "             \n",
    "        elif pp[6]==pp[7]==pp[8]:\n",
    "            deal= False\n",
    "            p[9] = 'endgame'\n",
    "            if player1 == pp[6]==pp[7]==pp[8]:\n",
    "                print (f'Player 1 has won!, {p[6]} has won!')\n",
    "              \n",
    "            elif player2 == pp[6]==pp[7]==pp[8]:\n",
    "                print (f'Player 2 has won!, {p[6]} has won!')\n",
    "              \n",
    "        else:\n",
    "            deal= False\n",
    "            continue\n",
    "    \n",
    "    \n",
    "pass"
   ]
  },
  {
   "cell_type": "code",
   "execution_count": 21,
   "metadata": {},
   "outputs": [],
   "source": [
    "def newgame ():\n",
    "    from IPython.display import clear_output\n",
    "    clear_output()\n",
    "    global ade\n",
    "    ade= True\n",
    "    while ade:\n",
    "        setup()\n",
    "pass   "
   ]
  },
  {
   "cell_type": "code",
   "execution_count": null,
   "metadata": {},
   "outputs": [],
   "source": []
  },
  {
   "cell_type": "code",
   "execution_count": null,
   "metadata": {},
   "outputs": [
    {
     "name": "stdout",
     "output_type": "stream",
     "text": [
      "This game is the popular X and O game. 2 players will choose their marker uppercase X or O\n",
      "The board of the game is as shown below. Your marker X or O will be placed in the same position\n",
      "of the numbers you input as it is on the board. Kindly take note of this numbers and their position\n",
      "You know the rules of X and O, so lets get to it. Have fun!\n",
      " ||     ||     ||     ||\n",
      " || (1) || (2) || (3) ||\n",
      " ||_____||_____||_____||\n",
      " ||     ||     ||     ||\n",
      " || (4) || (5) || (6) ||\n",
      " ||_____||_____||_____||\n",
      " ||     ||     ||     ||\n",
      " || (7) || (8) || (9) ||\n",
      " ||     ||     ||     ||\n",
      "Choose your marker Player 1, uppercase X or O O\n",
      "Player1 your marker is O\n",
      "Player2 your marker is X\n",
      "Player 1 Enter the number corresponding to where you want to place your marker according to the game's instruction9\n",
      " ||     ||     ||     ||\n",
      " ||     ||     ||     ||\n",
      " ||_____||_____||_____||\n",
      " ||     ||     ||     ||\n",
      " ||     ||     ||     ||\n",
      " ||_____||_____||_____||\n",
      " ||     ||     ||     ||\n",
      " ||     ||     ||  O  ||\n",
      " ||     ||     ||     ||\n",
      "Player 2 Enter the number corresponding to where you want to place your marker according to the game's instruction2\n",
      "X\n",
      " ||     ||     ||     ||\n",
      " ||     ||  X  ||     ||\n",
      " ||_____||_____||_____||\n",
      " ||     ||     ||     ||\n",
      " ||     ||     ||     ||\n",
      " ||_____||_____||_____||\n",
      " ||     ||     ||     ||\n",
      " ||     ||     ||  O  ||\n",
      " ||     ||     ||     ||\n"
     ]
    }
   ],
   "source": [
    "newgame()"
   ]
  },
  {
   "cell_type": "code",
   "execution_count": 2,
   "metadata": {},
   "outputs": [
    {
     "data": {
      "text/plain": [
       "10"
      ]
     },
     "execution_count": 2,
     "metadata": {},
     "output_type": "execute_result"
    }
   ],
   "source": [
    "ww=[' ',' ',' ',' ',' ',' ',' ',' ',' ',' ']\n",
    "len(ww)"
   ]
  },
  {
   "cell_type": "code",
   "execution_count": null,
   "metadata": {},
   "outputs": [],
   "source": []
  }
 ],
 "metadata": {
  "kernelspec": {
   "display_name": "Python 3",
   "language": "python",
   "name": "python3"
  },
  "language_info": {
   "codemirror_mode": {
    "name": "ipython",
    "version": 3
   },
   "file_extension": ".py",
   "mimetype": "text/x-python",
   "name": "python",
   "nbconvert_exporter": "python",
   "pygments_lexer": "ipython3",
   "version": "3.7.3"
  }
 },
 "nbformat": 4,
 "nbformat_minor": 2
}
