{
 "cells": [
  {
   "cell_type": "code",
   "execution_count": null,
   "metadata": {},
   "outputs": [],
   "source": [
    "\n"
   ]
  },
  {
   "cell_type": "code",
   "execution_count": 7,
   "metadata": {},
   "outputs": [],
   "source": [
    "from IPython.display import clear_output\n",
    "\n",
    "class Gamer():\n",
    "    def instruction(self):\n",
    "        print('welcome to Pig Latin! It is simple,the first letter/syllable of any word you input would be moved '\n",
    "             '\\nto the end of the word and \"ay\" added to it. If the first letter is a vowel then, \"way\" is added.' \n",
    "             '\\nMacht Spass!!!')\n",
    "    def alphabet(self):\n",
    "        self.letters=['A','B','C','D','E','F','G','H','I','J','K','L','M','N','O','P','Q','R','S','T','U','V','W','X','Y','Z']\n",
    "        self.const=['B','C','D','F','G','H','J','K','L','M','N','P','Q','R','S','T','V','W','X','Y','Z']\n",
    "        self.vowels=['A','E','I','O','U']\n",
    "\n",
    "class Play(Gamer):\n",
    "    def __init__(self):\n",
    "        self.output=''\n",
    "        self.piglt=[]\n",
    "        self.count=0\n",
    "        self.waiting=[]\n",
    "        \n",
    "    def start(self):\n",
    "        clear_output()\n",
    "        Gamer.alphabet(self)\n",
    "        Gamer.instruction(self)\n",
    "        Play.proceed(self)\n",
    "        Play.endgame(self)\n",
    "    \n",
    "    def proceed(self):\n",
    "        inpt= input('Please enter your word ')\n",
    "        upinpt= inpt.upper()\n",
    "        self.inpt= upinpt.split()\n",
    "        for x in self.inpt:\n",
    "            self.count=0\n",
    "            for iq in x:\n",
    "                self.count+=1\n",
    "                if iq in self.vowels and self.count==1 :\n",
    "                    self.waiting= x.replace(iq,'')\n",
    "                    self.kad=iq+'WAY'\n",
    "                    self.output=self.waiting + self.kad\n",
    "                    self.piglt.append(self.output)\n",
    "                    break\n",
    "                elif iq in self.const and self.count==1 :\n",
    "                    self.waiting= x.replace(iq,'')\n",
    "                    self.kad=iq+'AY'\n",
    "                    self.output=self.waiting + self.kad\n",
    "                    self.piglt.append(self.output)\n",
    "                    break\n",
    "                elif not iq in self.letters and self.count==1 :\n",
    "                    \n",
    "                    self.output=x\n",
    "                    self.piglt.append(self.output)\n",
    "                    break\n",
    "        \n",
    "        print ('Here is your output:')\n",
    "        print (' '.join(self.piglt))\n",
    "        \n",
    "    def endgame(self):\n",
    "        einpt= input('Do you want to play again? Y or N ')\n",
    "        eupinpt= einpt.upper()\n",
    "        if eupinpt == 'Y':\n",
    "            Play.start(self)\n",
    "            \n",
    "        elif eupinpt == 'N':\n",
    "            clear_output()\n",
    "            print ('Thanks for playing Piglatin, Tschuss!')\n",
    "                    \n",
    "        \n",
    "        \n",
    "        \n",
    "        \n",
    "#y=Play()   \n",
    "#y.start()\n",
    "        "
   ]
  },
  {
   "cell_type": "code",
   "execution_count": 8,
   "metadata": {},
   "outputs": [],
   "source": [
    "y=Play"
   ]
  },
  {
   "cell_type": "code",
   "execution_count": null,
   "metadata": {},
   "outputs": [],
   "source": []
  },
  {
   "cell_type": "code",
   "execution_count": null,
   "metadata": {},
   "outputs": [],
   "source": [
    "\n"
   ]
  },
  {
   "cell_type": "code",
   "execution_count": null,
   "metadata": {},
   "outputs": [],
   "source": [
    "\n"
   ]
  },
  {
   "cell_type": "code",
   "execution_count": null,
   "metadata": {},
   "outputs": [],
   "source": []
  },
  {
   "cell_type": "code",
   "execution_count": null,
   "metadata": {},
   "outputs": [],
   "source": []
  }
 ],
 "metadata": {
  "kernelspec": {
   "display_name": "Python 3",
   "language": "python",
   "name": "python3"
  },
  "language_info": {
   "codemirror_mode": {
    "name": "ipython",
    "version": 3
   },
   "file_extension": ".py",
   "mimetype": "text/x-python",
   "name": "python",
   "nbconvert_exporter": "python",
   "pygments_lexer": "ipython3",
   "version": "3.7.3"
  }
 },
 "nbformat": 4,
 "nbformat_minor": 2
}
