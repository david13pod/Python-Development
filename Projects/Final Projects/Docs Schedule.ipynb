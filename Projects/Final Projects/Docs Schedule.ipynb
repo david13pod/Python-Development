{
 "cells": [
  {
   "cell_type": "code",
   "execution_count": 1,
   "metadata": {},
   "outputs": [],
   "source": [
    "  "
   ]
  },
  {
   "cell_type": "code",
   "execution_count": 21,
   "metadata": {},
   "outputs": [],
   "source": [
    "class Dairy ():\n",
    "    '''\n",
    "    Work in progress!!! \n",
    "    First phase completed. \n",
    "    2nd phase involves saving the schedules in file with appropriate format and being able to reteive it\n",
    "    Last phase should involve searching the retreived schedules for saved appointments\n",
    "    '''\n",
    "    \n",
    "    def initial (self):\n",
    "        self.calendar=['jan','feb','mar','apr','may','jun','july','aug','sept','oct','nov','dec']\n",
    "        self.edate=input ('Enter the date in this format dd/mm/yy ')\n",
    "        self.date=self.edate.strip()\n",
    "        self.mnth=int(self.date[3:5])\n",
    "        self.month={'jan':[1,31],'feb':[1,28],'mar':[1,31],'apr':[1,30],'may':[1,31],'jun':[1,30],'july':[1,31],'aug':[1,31],'sept':[1,30],'oct':[1,31],'nov':[1,30],'dec':[1,31]}\n",
    "        \n",
    "       \n",
    "    \n",
    "    def checkmonth(self):\n",
    "        for a in range(1,13):\n",
    "            if a == self.mnth:\n",
    "                self.chckdmnth=self.calendar[(a-1)]\n",
    "                break\n",
    "            elif a> 12:\n",
    "                print('Wrong date format')\n",
    "                Dairy.initial(self)\n",
    "                break\n",
    "            else:\n",
    "                continue\n",
    "                \n",
    "    def checkdate(self):\n",
    "        Dairy.checkmonth(self)\n",
    "        dated=int(self.date[0:2])\n",
    "        if dated< min(self.month[self.chckdmnth]) or dated> max(self.month[self.chckdmnth]):\n",
    "            print('something is wrong with the date inputed, try again ')\n",
    "            Dairy.initial(self)\n",
    "        else:\n",
    "            pass\n",
    "\n",
    "        \n",
    "    \n",
    "\n",
    "\n",
    "\n",
    "\n",
    "        "
   ]
  },
  {
   "cell_type": "code",
   "execution_count": 26,
   "metadata": {},
   "outputs": [],
   "source": [
    "class Doctors (Dairy):\n",
    "    \n",
    "    def __init__ (self):\n",
    "        self.name=input ('Enter Doctors name ')\n",
    "        self.schedule={}\n",
    "        Dairy.initial(self)\n",
    "        \n",
    "    def chkappoinment(self):\n",
    "        self.eappointments= input('Enter customers name ')\n",
    "        self.eappointment= self.eappointments.strip()\n",
    "        for nam in self.schedule.keys():\n",
    "            if nam == self.eappointment:\n",
    "                print (self.schedule[self.eappointment])\n",
    "            else:\n",
    "                print('No appointment in the database ')\n",
    "                boka=input('do you want to book one? Y or N ')\n",
    "                self.boka=boka.upper()\n",
    "                if boka =='Y':\n",
    "                    Doctors.boook(self)\n",
    "                else:\n",
    "                    print('Thanks!')\n",
    "    \n",
    "    def book(self):\n",
    "        self.ecustname=input('Enter customers name ')\n",
    "        self.custname=self.ecustname.strip()\n",
    "        self.etime=input('Enter the appointment time in format HH:MM: from 08:00 to 17:00 ')\n",
    "        self.time=self.etime.strip()\n",
    "        Dairy.checkmonth(self)\n",
    "        Dairy.checkdate(self)\n",
    "        self.schedule={self.custname : [self.name,self.date,self.time]}\n",
    "\n",
    "\n",
    "#hoschck=hos.chkappoinment()\n",
    "#hosbook=hos.book()\n",
    "\n",
    "\n",
    "      "
   ]
  },
  {
   "cell_type": "code",
   "execution_count": 27,
   "metadata": {},
   "outputs": [
    {
     "name": "stdout",
     "output_type": "stream",
     "text": [
      "Enter Doctors name sass\n",
      "Enter the date in this format dd/mm/yy 02/02/20\n"
     ]
    }
   ],
   "source": [
    "hos=Doctors()\n"
   ]
  },
  {
   "cell_type": "code",
   "execution_count": 28,
   "metadata": {},
   "outputs": [
    {
     "name": "stdout",
     "output_type": "stream",
     "text": [
      "Enter customers name wqw\n",
      "Enter the appointment time in format HH:MM: from 08:00 to 17:00 098\n"
     ]
    }
   ],
   "source": [
    "hosbook=hos.book()"
   ]
  },
  {
   "cell_type": "code",
   "execution_count": 29,
   "metadata": {},
   "outputs": [
    {
     "name": "stdout",
     "output_type": "stream",
     "text": [
      "Enter customers name wqw\n",
      "['sass', '02/02/20', '098']\n"
     ]
    }
   ],
   "source": [
    "hoschck=hos.chkappoinment()"
   ]
  },
  {
   "cell_type": "code",
   "execution_count": null,
   "metadata": {},
   "outputs": [],
   "source": []
  },
  {
   "cell_type": "code",
   "execution_count": null,
   "metadata": {},
   "outputs": [],
   "source": []
  },
  {
   "cell_type": "code",
   "execution_count": null,
   "metadata": {},
   "outputs": [],
   "source": []
  },
  {
   "cell_type": "code",
   "execution_count": null,
   "metadata": {},
   "outputs": [],
   "source": []
  },
  {
   "cell_type": "code",
   "execution_count": null,
   "metadata": {},
   "outputs": [],
   "source": []
  }
 ],
 "metadata": {
  "kernelspec": {
   "display_name": "Python 3",
   "language": "python",
   "name": "python3"
  },
  "language_info": {
   "codemirror_mode": {
    "name": "ipython",
    "version": 3
   },
   "file_extension": ".py",
   "mimetype": "text/x-python",
   "name": "python",
   "nbconvert_exporter": "python",
   "pygments_lexer": "ipython3",
   "version": "3.7.3"
  }
 },
 "nbformat": 4,
 "nbformat_minor": 2
}
