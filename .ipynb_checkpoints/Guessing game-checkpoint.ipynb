{
 "cells": [
  {
   "cell_type": "code",
   "execution_count": 4,
   "metadata": {},
   "outputs": [
    {
     "name": "stdout",
     "output_type": "stream",
     "text": [
      "Guess challenge!\n",
      "Rules: Try to guess a number from 1 - 100 and see if you will be lucky enough to get same as mine\n",
      "If your guess is close to mine, you get a WARM, if its far you get a cold\n",
      "lets play!\n",
      "Pls enter your guess between 1 - 100 44\n",
      "Wrong guess, try again\n",
      "cold\n",
      "Pls enter your guess between 1 - 100 66\n",
      "Wrong guess, try again\n",
      "cold\n",
      "Pls enter your guess between 1 - 100 20\n",
      "Wrong guess, try again\n",
      "cold\n",
      "Pls enter your guess between 1 - 100 78\n",
      "Wrong guess, try again\n",
      "cold\n",
      "Pls enter your guess between 1 - 100 88\n",
      "Wrong guess, try again\n",
      "cold\n",
      "Pls enter your guess between 1 - 100 33\n",
      "Wrong guess, try again\n",
      "cold\n",
      "Pls enter your guess between 1 - 100 10\n",
      "Wrong guess, try again\n",
      "Warm\n",
      "Pls enter your guess between 1 - 100 1\n",
      "Wrong guess, try again\n",
      "Warm\n",
      "Pls enter your guess between 1 - 100 20\n",
      "Wrong guess, try again\n",
      "cold\n",
      "Pls enter your guess between 1 - 100 18\n",
      "Wrong guess, try again\n",
      "cold\n",
      "Pls enter your guess between 1 - 100 17\n",
      "Wrong guess, try again\n",
      "Warm\n",
      "Pls enter your guess between 1 - 100 7\n",
      "Congrats your guess 7 is correct\n",
      "your guesses are [44, 66, 20, 78, 88, 33, 10, 1, 20, 18, 17, 7]\n",
      "your guessed 12 times \n"
     ]
    }
   ],
   "source": [
    "print('Guess challenge!')\n",
    "print('Rules: Try to guess a number from 1 - 100 and see if you will be lucky enough to get same as mine')\n",
    "print ('If your guess is close to mine, you get a WARM, if its far you get a cold')\n",
    "print ('lets play!')\n",
    "from random import randint\n",
    "x = randint (1,100)\n",
    "\n",
    "guesses = [0]\n",
    "lg = len(guesses)\n",
    "while True:\n",
    "    player = int(input('Pls enter your guess between 1 - 100 '))\n",
    "    if player < 1 or player> 100 :\n",
    "        print ('Guess out of bound, try again')\n",
    "        continue\n",
    "    elif player == x:\n",
    "        print (f'Congrats your guess {player} is correct')\n",
    "        guesses.append(player)\n",
    "        num_guess= len(guesses)-1\n",
    "        guesses.remove(0)\n",
    "        print (f'your guesses are {guesses}')\n",
    "        print (f'your guessed {num_guess} times ')\n",
    "        break\n",
    "    elif player != x:\n",
    "        print ('Wrong guess, try again')\n",
    "    if abs (player - x) <= 10 and lg == 1:\n",
    "        print('Warm')\n",
    "    elif abs (player - x) > 10:\n",
    "        print ('cold')\n",
    "    if abs (player - x) <= 10 and abs (player - x) < abs(guesses[-1] - x) and lg != 1:\n",
    "        print('Warmer')\n",
    "    elif abs (player - x) <= 10 and abs (player - x) > abs(guesses[-1] - x) and lg != 1:\n",
    "        print ('colder')\n",
    "    guesses.append(player)\n",
    "    num_guess= len(guesses)-1"
   ]
  },
  {
   "cell_type": "code",
   "execution_count": 2,
   "metadata": {},
   "outputs": [],
   "source": [
    "z=[0,1,2]\n",
    "y= z.remove(0)\n",
    "y"
   ]
  },
  {
   "cell_type": "code",
   "execution_count": null,
   "metadata": {},
   "outputs": [],
   "source": []
  }
 ],
 "metadata": {
  "kernelspec": {
   "display_name": "Python 3",
   "language": "python",
   "name": "python3"
  },
  "language_info": {
   "codemirror_mode": {
    "name": "ipython",
    "version": 3
   },
   "file_extension": ".py",
   "mimetype": "text/x-python",
   "name": "python",
   "nbconvert_exporter": "python",
   "pygments_lexer": "ipython3",
   "version": "3.7.3"
  }
 },
 "nbformat": 4,
 "nbformat_minor": 2
}
