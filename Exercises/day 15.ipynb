{
 "cells": [
  {
   "cell_type": "code",
   "execution_count": 4,
   "metadata": {},
   "outputs": [],
   "source": [
    "def add (n1, n2):\n",
    "    print( n1+n2)"
   ]
  },
  {
   "cell_type": "code",
   "execution_count": 5,
   "metadata": {},
   "outputs": [
    {
     "name": "stdout",
     "output_type": "stream",
     "text": [
      "30\n"
     ]
    }
   ],
   "source": [
    "add(10,20)"
   ]
  },
  {
   "cell_type": "code",
   "execution_count": 6,
   "metadata": {},
   "outputs": [],
   "source": [
    "num1 = 10"
   ]
  },
  {
   "cell_type": "code",
   "execution_count": 7,
   "metadata": {},
   "outputs": [
    {
     "name": "stdout",
     "output_type": "stream",
     "text": [
      "enter number 20\n"
     ]
    }
   ],
   "source": [
    "num2 = input('enter number ')"
   ]
  },
  {
   "cell_type": "code",
   "execution_count": 9,
   "metadata": {},
   "outputs": [
    {
     "ename": "TypeError",
     "evalue": "unsupported operand type(s) for +: 'int' and 'str'",
     "output_type": "error",
     "traceback": [
      "\u001b[1;31m---------------------------------------------------------------------------\u001b[0m",
      "\u001b[1;31mTypeError\u001b[0m                                 Traceback (most recent call last)",
      "\u001b[1;32m<ipython-input-9-aa0e6ca1b6bb>\u001b[0m in \u001b[0;36m<module>\u001b[1;34m\u001b[0m\n\u001b[1;32m----> 1\u001b[1;33m \u001b[0madd\u001b[0m\u001b[1;33m(\u001b[0m\u001b[0mnum1\u001b[0m\u001b[1;33m,\u001b[0m\u001b[0mnum2\u001b[0m\u001b[1;33m)\u001b[0m\u001b[1;33m\u001b[0m\u001b[1;33m\u001b[0m\u001b[0m\n\u001b[0m\u001b[0;32m      2\u001b[0m \u001b[0mprint\u001b[0m \u001b[1;33m(\u001b[0m\u001b[1;34m'something'\u001b[0m\u001b[1;33m)\u001b[0m\u001b[1;33m\u001b[0m\u001b[1;33m\u001b[0m\u001b[0m\n",
      "\u001b[1;32m<ipython-input-4-523087b3a9ad>\u001b[0m in \u001b[0;36madd\u001b[1;34m(n1, n2)\u001b[0m\n\u001b[0;32m      1\u001b[0m \u001b[1;32mdef\u001b[0m \u001b[0madd\u001b[0m \u001b[1;33m(\u001b[0m\u001b[0mn1\u001b[0m\u001b[1;33m,\u001b[0m \u001b[0mn2\u001b[0m\u001b[1;33m)\u001b[0m\u001b[1;33m:\u001b[0m\u001b[1;33m\u001b[0m\u001b[1;33m\u001b[0m\u001b[0m\n\u001b[1;32m----> 2\u001b[1;33m     \u001b[0mprint\u001b[0m\u001b[1;33m(\u001b[0m \u001b[0mn1\u001b[0m\u001b[1;33m+\u001b[0m\u001b[0mn2\u001b[0m\u001b[1;33m)\u001b[0m\u001b[1;33m\u001b[0m\u001b[1;33m\u001b[0m\u001b[0m\n\u001b[0m",
      "\u001b[1;31mTypeError\u001b[0m: unsupported operand type(s) for +: 'int' and 'str'"
     ]
    }
   ],
   "source": [
    "add(num1,num2)\n",
    "print ('something')"
   ]
  },
  {
   "cell_type": "code",
   "execution_count": 10,
   "metadata": {},
   "outputs": [
    {
     "name": "stdout",
     "output_type": "stream",
     "text": [
      "you are not adding correctly\n"
     ]
    }
   ],
   "source": [
    "try:\n",
    "    result= 10+'10'\n",
    "except:\n",
    "    print('you are not adding correctly')"
   ]
  },
  {
   "cell_type": "code",
   "execution_count": 12,
   "metadata": {},
   "outputs": [
    {
     "name": "stdout",
     "output_type": "stream",
     "text": [
      "add went well\n"
     ]
    }
   ],
   "source": [
    "try:\n",
    "    result= 10+10\n",
    "except:\n",
    "    print('you are not adding correctly')\n",
    "else:\n",
    "    print ('add went well')"
   ]
  },
  {
   "cell_type": "code",
   "execution_count": 13,
   "metadata": {},
   "outputs": [
    {
     "name": "stdout",
     "output_type": "stream",
     "text": [
      "you are have an OS Error\n",
      "I always run\n"
     ]
    }
   ],
   "source": [
    "try:\n",
    "    f = open('testfile2','r')\n",
    "    f.write ('write a test file')\n",
    "#we try to except a particular type of error here\n",
    "except TypeError:\n",
    "    print('you are have a typeerror')\n",
    "except OSError:\n",
    "    print('you are have an OS Error')\n",
    "\n",
    "finally:\n",
    "    print ('I always run')"
   ]
  },
  {
   "cell_type": "code",
   "execution_count": 14,
   "metadata": {},
   "outputs": [
    {
     "name": "stdout",
     "output_type": "stream",
     "text": [
      "All other errors\n",
      "I always run\n"
     ]
    }
   ],
   "source": [
    "try:\n",
    "    f = open('testfile2','r')\n",
    "    f.write ('write a test file')\n",
    "#we try to except a particular type of error here\n",
    "except TypeError:\n",
    "    print('you are have a typeerror')\n",
    "except:\n",
    "    print('All other errors')\n",
    "\n",
    "finally:\n",
    "    print ('I always run')"
   ]
  },
  {
   "cell_type": "code",
   "execution_count": 15,
   "metadata": {},
   "outputs": [],
   "source": [
    "def ask4int():\n",
    "    try:\n",
    "        result= int(input('pls provide a number: '))\n",
    "    except:\n",
    "        print('thats not a number')\n",
    "    finally :\n",
    "        print ('end of try, except, finally')"
   ]
  },
  {
   "cell_type": "code",
   "execution_count": 16,
   "metadata": {},
   "outputs": [
    {
     "name": "stdout",
     "output_type": "stream",
     "text": [
      "pls provide a number: 1\n",
      "end of try, except, finally\n"
     ]
    }
   ],
   "source": [
    "ask4int()"
   ]
  },
  {
   "cell_type": "code",
   "execution_count": 17,
   "metadata": {},
   "outputs": [
    {
     "name": "stdout",
     "output_type": "stream",
     "text": [
      "pls provide a number: sa\n",
      "thats not a number\n",
      "end of try, except, finally\n"
     ]
    }
   ],
   "source": [
    "ask4int()\n"
   ]
  },
  {
   "cell_type": "code",
   "execution_count": 18,
   "metadata": {},
   "outputs": [],
   "source": [
    "def ask4int():\n",
    "    while True:\n",
    "        try:\n",
    "            result= int(input('pls provide a number: '))\n",
    "        except:\n",
    "            print('thats not a number')\n",
    "            continue\n",
    "        else:\n",
    "            print('thats a number')\n",
    "            break\n",
    "        finally :\n",
    "            print ('end of try, except, finally')"
   ]
  },
  {
   "cell_type": "code",
   "execution_count": 19,
   "metadata": {},
   "outputs": [
    {
     "name": "stdout",
     "output_type": "stream",
     "text": [
      "pls provide a number: 1\n",
      "thats a number\n",
      "end of try, except, finally\n"
     ]
    }
   ],
   "source": [
    "ask4int()"
   ]
  },
  {
   "cell_type": "code",
   "execution_count": 20,
   "metadata": {},
   "outputs": [
    {
     "name": "stdout",
     "output_type": "stream",
     "text": [
      "pls provide a number: ad\n",
      "thats not a number\n",
      "end of try, except, finally\n",
      "pls provide a number: ad\n",
      "thats not a number\n",
      "end of try, except, finally\n",
      "pls provide a number: ad\n",
      "thats not a number\n",
      "end of try, except, finally\n",
      "pls provide a number: ad\n",
      "thats not a number\n",
      "end of try, except, finally\n",
      "pls provide a number: 9\n",
      "thats a number\n",
      "end of try, except, finally\n"
     ]
    }
   ],
   "source": [
    "ask4int()\n"
   ]
  },
  {
   "cell_type": "code",
   "execution_count": 28,
   "metadata": {},
   "outputs": [],
   "source": [
    "def ask():\n",
    "    while True:\n",
    "        try:\n",
    "            intg= int(input('Enter an integer: '))\n",
    "        except:\n",
    "            print ('an error occured pls try again!')\n",
    "            continue\n",
    "        else:\n",
    "            print (f'Thanks, you number is: {intg}')\n",
    "            break\n",
    "    \n",
    "    pass"
   ]
  },
  {
   "cell_type": "code",
   "execution_count": 29,
   "metadata": {},
   "outputs": [
    {
     "name": "stdout",
     "output_type": "stream",
     "text": [
      "Enter an integer: sd\n",
      "an error occured pls try again!\n",
      "Enter an integer: ds\n",
      "an error occured pls try again!\n",
      "Enter an integer: 2\n",
      "Thanks, you number is: 2\n"
     ]
    }
   ],
   "source": [
    "ask()"
   ]
  },
  {
   "cell_type": "code",
   "execution_count": null,
   "metadata": {},
   "outputs": [],
   "source": []
  }
 ],
 "metadata": {
  "kernelspec": {
   "display_name": "Python 3",
   "language": "python",
   "name": "python3"
  },
  "language_info": {
   "codemirror_mode": {
    "name": "ipython",
    "version": 3
   },
   "file_extension": ".py",
   "mimetype": "text/x-python",
   "name": "python",
   "nbconvert_exporter": "python",
   "pygments_lexer": "ipython3",
   "version": "3.7.3"
  }
 },
 "nbformat": 4,
 "nbformat_minor": 2
}
